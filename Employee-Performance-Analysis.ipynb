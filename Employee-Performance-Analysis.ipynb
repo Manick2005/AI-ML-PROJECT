{
 "cells": [
  {
   "cell_type": "code",
   "execution_count": 9,
   "id": "6bb8284e-7ca0-482b-b213-94b28ad56362",
   "metadata": {},
   "outputs": [],
   "source": [
    "import numpy as np "
   ]
  },
  {
   "cell_type": "code",
   "execution_count": 56,
   "id": "9d25d0d5-d447-4174-abee-1cbbff9d4436",
   "metadata": {},
   "outputs": [],
   "source": [
    "import pandas as pd\n",
    "import matplotlib.pyplot as plt\n",
    "import seaborn as sns"
   ]
  },
  {
   "cell_type": "code",
   "execution_count": 57,
   "id": "8490ed30-1365-4a6b-8fed-f6626215dee9",
   "metadata": {},
   "outputs": [],
   "source": [
    "np.random.seed(42)"
   ]
  },
  {
   "cell_type": "code",
   "execution_count": 117,
   "id": "200acd25-cc2b-4745-a5ab-cc802f99e9ca",
   "metadata": {},
   "outputs": [],
   "source": [
    "employee = [f\"EMP_{str(i).zfill(3)}\" for i in range(1,31)]\n",
    "dates =pd.date_range(\"2025-07-01\",periods=30,freq=\"D\")"
   ]
  },
  {
   "cell_type": "code",
   "execution_count": 118,
   "id": "eae6ba0f-0a94-4f47-9120-67e8fd119f3d",
   "metadata": {},
   "outputs": [],
   "source": [
    "data = {\n",
    "      \"Date\":np.tile(dates,len(employee)),\n",
    "      \"Employee\" : np.repeat(employee,len(dates)),\n",
    "      \"Working_Hours\" :np.random.uniform(4,10,size=len(dates)*len(employee)).round(2)\n",
    "}    \n",
    "    "
   ]
  },
  {
   "cell_type": "code",
   "execution_count": 119,
   "id": "4fb909b0-34d0-4855-a80f-a84b200883b4",
   "metadata": {},
   "outputs": [],
   "source": [
    "df = pd.DataFrame(data)"
   ]
  },
  {
   "cell_type": "code",
   "execution_count": 120,
   "id": "932e6b67-b8c6-47dc-8a90-2c034db5b2a8",
   "metadata": {},
   "outputs": [],
   "source": [
    "df.to_csv(\"employee_working_hours.csv\",index=False)"
   ]
  },
  {
   "cell_type": "code",
   "execution_count": 121,
   "id": "8fdb4a95-155d-4a92-919b-f40dad5d2565",
   "metadata": {},
   "outputs": [],
   "source": [
    "df_csv = pd.read_csv(\"employee_working_hours.csv\")"
   ]
  },
  {
   "cell_type": "code",
   "execution_count": 122,
   "id": "1c441f17-5b07-4278-8def-54526fab7077",
   "metadata": {},
   "outputs": [
    {
     "name": "stdout",
     "output_type": "stream",
     "text": [
      "         Date Employee  Working_Hours\n",
      "0  2025-07-01  EMP_001           9.49\n",
      "1  2025-07-02  EMP_001           7.20\n",
      "2  2025-07-03  EMP_001           4.95\n",
      "3  2025-07-04  EMP_001           8.18\n",
      "4  2025-07-05  EMP_001           8.76\n",
      "       Working_Hours\n",
      "count     900.000000\n",
      "mean        7.019400\n",
      "std         1.744721\n",
      "min         4.000000\n",
      "25%         5.627500\n",
      "50%         7.010000\n",
      "75%         8.550000\n",
      "max         9.990000\n",
      "30\n"
     ]
    }
   ],
   "source": [
    "print(df_csv.head())\n",
    "print(df_csv.describe())\n",
    "print(df_csv[\"Employee\"].nunique())"
   ]
  },
  {
   "cell_type": "code",
   "execution_count": 123,
   "id": "b67c3d6a-4a28-431e-bad2-de00d6323dc5",
   "metadata": {},
   "outputs": [],
   "source": [
    "total_hours = df_csv.groupby(\"Employee\")[\"Working_Hours\"].sum().sort_values(ascending = False)"
   ]
  },
  {
   "cell_type": "code",
   "execution_count": 124,
   "id": "df81370e-d947-4a06-9802-43db4e9d3bce",
   "metadata": {},
   "outputs": [],
   "source": [
    "avg_daily = df_csv.groupby(\"Employee\")[\"Working_Hours\"].mean()"
   ]
  },
  {
   "cell_type": "code",
   "execution_count": 125,
   "id": "45c3d8fe-db74-48e4-b57a-d062acd0f91c",
   "metadata": {},
   "outputs": [
    {
     "name": "stdout",
     "output_type": "stream",
     "text": [
      "         Date Employee  Working_Hours  Low_Hour_Flag  High_Hour_Flag\n",
      "1  2025-07-02  EMP_001           7.20          False            True\n",
      "2  2025-07-03  EMP_001           4.95           True            True\n",
      "3  2025-07-04  EMP_001           8.18          False            True\n",
      "4  2025-07-05  EMP_001           8.76          False            True\n",
      "5  2025-07-06  EMP_001           5.90          False            True\n"
     ]
    }
   ],
   "source": [
    "threshold_low = 5\n",
    "threshold_high = 9\n",
    "df_csv[\"Low_Hour_Flag\"] = df_csv[\"Working_Hours\"] < threshold_low\n",
    "df_csv[\"High_Hour_Flag\"] = df_csv[\"Working_Hours\"] < threshold_high\n",
    "print(df_csv[df_csv[\"Low_Hour_Flag\"] | df_csv[\"High_Hour_Flag\"]].head())"
   ]
  },
  {
   "cell_type": "code",
   "execution_count": 126,
   "id": "932af9de-f2eb-4c54-a19c-8b30110cffc2",
   "metadata": {},
   "outputs": [
    {
     "data": {
      "image/png": "[encoded data removed]",
      "text/plain": [
       "<Figure size 1000x500 with 1 Axes>"
      ]
     },
     "metadata": {},
     "output_type": "display_data"
    }
   ],
   "source": [
    "top10 = total_hours.head(10)\n",
    "plt.figure(figsize=(10,5))\n",
    "sns.barplot(x=top10.index,y=top10.values)\n",
    "plt.xticks(rotation=45)\n",
    "plt.title(\"Top 10 Employee by Total Working Hours\")\n",
    "plt.ylabel(\"Hours\")\n",
    "plt.tight_layout()\n",
    "plt.show()"
   ]
  },
  {
   "cell_type": "code",
   "execution_count": 127,
   "id": "1761a81b-8f66-46f6-9b16-b8a9ca8b05f0",
   "metadata": {},
   "outputs": [],
   "source": [
    "Grades = df.loc[(df[\"Employee\"] == \"EMP_003\")]"
   ]
  },
  {
   "cell_type": "code",
   "execution_count": 129,
   "id": "4166df37-9ae5-4395-bed0-7590b3a2bc9c",
   "metadata": {},
   "outputs": [
    {
     "data": {
      "text/html": [
       "<div>\n",
       "<style scoped>\n",
       "    .dataframe tbody tr th:only-of-type {\n",
       "        vertical-align: middle;\n",
       "    }\n",
       "\n",
       "    .dataframe tbody tr th {\n",
       "        vertical-align: top;\n",
       "    }\n",
       "\n",
       "    .dataframe thead th {\n",
       "        text-align: right;\n",
       "    }\n",
       "</style>\n",
       "<table border=\"1\" class=\"dataframe\">\n",
       "  <thead>\n",
       "    <tr style=\"text-align: right;\">\n",
       "      <th></th>\n",
       "      <th>Date</th>\n",
       "      <th>Employee</th>\n",
       "      <th>Working_Hours</th>\n",
       "    </tr>\n",
       "  </thead>\n",
       "  <tbody>\n",
       "    <tr>\n",
       "      <th>60</th>\n",
       "      <td>2025-07-01</td>\n",
       "      <td>EMP_003</td>\n",
       "      <td>7.91</td>\n",
       "    </tr>\n",
       "    <tr>\n",
       "      <th>61</th>\n",
       "      <td>2025-07-02</td>\n",
       "      <td>EMP_003</td>\n",
       "      <td>7.73</td>\n",
       "    </tr>\n",
       "    <tr>\n",
       "      <th>62</th>\n",
       "      <td>2025-07-03</td>\n",
       "      <td>EMP_003</td>\n",
       "      <td>6.11</td>\n",
       "    </tr>\n",
       "    <tr>\n",
       "      <th>63</th>\n",
       "      <td>2025-07-04</td>\n",
       "      <td>EMP_003</td>\n",
       "      <td>9.05</td>\n",
       "    </tr>\n",
       "    <tr>\n",
       "      <th>64</th>\n",
       "      <td>2025-07-05</td>\n",
       "      <td>EMP_003</td>\n",
       "      <td>6.83</td>\n",
       "    </tr>\n",
       "  </tbody>\n",
       "</table>\n",
       "</div>"
      ],
      "text/plain": [
       "         Date Employee  Working_Hours\n",
       "60 2025-07-01  EMP_003           7.91\n",
       "61 2025-07-02  EMP_003           7.73\n",
       "62 2025-07-03  EMP_003           6.11\n",
       "63 2025-07-04  EMP_003           9.05\n",
       "64 2025-07-05  EMP_003           6.83"
      ]
     },
     "execution_count": 129,
     "metadata": {},
     "output_type": "execute_result"
    }
   ],
   "source": [
    "Grades.head()"
   ]
  }
 ],
 "metadata": {
  "kernelspec": {
   "display_name": "Python 3 (ipykernel)",
   "language": "python",
   "name": "python3"
  },
  "language_info": {
   "codemirror_mode": {
    "name": "ipython",
    "version": 3
   },
   "file_extension": ".py",
   "mimetype": "text/x-python",
   "name": "python",
   "nbconvert_exporter": "python",
   "pygments_lexer": "ipython3",
   "version": "3.12.10"
  }
 },
 "nbformat": 4,
 "nbformat_minor": 5
}
